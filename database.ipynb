{
 "cells": [
  {
   "cell_type": "code",
   "execution_count": 6,
   "id": "e2572ac5-c45f-4795-9a9d-ec63cee39b72",
   "metadata": {
    "tags": []
   },
   "outputs": [],
   "source": [
    "import mysql.connector"
   ]
  },
  {
   "cell_type": "code",
   "execution_count": 9,
   "id": "a35cd07b-f56a-4ea5-b1d9-ebd62987ed95",
   "metadata": {
    "tags": []
   },
   "outputs": [
    {
     "name": "stdout",
     "output_type": "stream",
     "text": [
      "Connected to the database\n"
     ]
    }
   ],
   "source": [
    "host = 'localhost'\n",
    "database = 'mystore'\n",
    "username = 'root'\n",
    "password = ''\n",
    "\n",
    "try:\n",
    "    conn = mysql.connector.connect(\n",
    "        host=host,\n",
    "        database=database,\n",
    "        user=username,\n",
    "        password=password\n",
    "    )\n",
    "    cursor = conn.cursor()\n",
    "    print(\"Connected to the database\")\n",
    "except Exception as e:\n",
    "    print(f\"Error: {str(e)}\")"
   ]
  },
  {
   "cell_type": "code",
   "execution_count": 10,
   "id": "5718511f-7067-4005-9f67-1a39fc100b0c",
   "metadata": {
    "tags": []
   },
   "outputs": [
    {
     "name": "stdout",
     "output_type": "stream",
     "text": [
      "Product ID: 3, Name: BFGoodrich-Terrain-T-A-KO2-Radial-tire-LT265-60R18-E-119-116S-119S, Price: The BFGoodrich KO2: Premier all-terrain tire for trucks & SUVs. Aggressive tread, durability, 119/116S load index. Perfect for off-road & on-road. Buy for reliability!\n",
      "Product ID: 4, Name: BF Goodrich Trail Terrain T 26560R18 110T Tire, Price: \"Discover the BF Goodrich Trail Terrain T 265/60R18 110T Tire in Nairobi, Kenya. This versatile all-terrain tire offers superior performance on and off the road, perfect for Kenyan adventures. Get yours for reliability and stability!\"\n",
      "Product ID: 5, Name: Bosch DIN 74 S4H35 74AH Battery, Price: \"Upgrade your vehicle with the Bosch DIN 74 S4H35 74AH Battery in Nairobi, Kenya. Enjoy reliable starting power and longevity. Get your battery today for worry-free driving in Nairobi!\"\n",
      "Product ID: 6, Name: bridgestone-sport-rft, Price: \"Experience the ultimate performance with Bridgestone Sport RFT tires in Nairobi, Kenya. These run-flat tires offer superb handling, safety, and durability for Nairobi's roads. Upgrade your ride today!\"\n",
      "Product ID: 7, Name: DUNLOP GRANDTREK AT30 26555R19, Price:  Unleash off-road adventure. Exceptional traction & durability in a versatile tire. Your journey, elevated.\n",
      "Product ID: 8, Name: Smart Car TPMS Tire Pressure Monitoring System Solar Power Digital, Price: Enhance your driving safety with the Smart Car TPMS Solar Power Digital System. Monitor tire pressure effortlessly, ensuring a smooth and secure journey.\n",
      "Product ID: 9, Name: Smart Car TPMS Tire Pressure Monitoring System Solar Power Digital, Price: Enhance your driving safety with the Smart Car TPMS Solar Power Digital System. Monitor tire pressure effortlessly, ensuring a smooth and secure journey.\n",
      "Product ID: 10, Name: Smart Car TPMS Tire Pressure Monitoring System Solar Power Digital, Price: Enhance your driving safety with the Smart Car TPMS Solar Power Digital System. Monitor tire pressure effortlessly, ensuring a smooth and secure journey.\n"
     ]
    }
   ],
   "source": [
    "cursor.execute(\"SELECT * FROM products\")\n",
    "rows = cursor.fetchall()\n",
    "\n",
    "for row in rows:\n",
    "    print(f\"Product ID: {row[0]}, Name: {row[1]}, Price: {row[2]}\")"
   ]
  },
  {
   "cell_type": "code",
   "execution_count": 14,
   "id": "c8713a4f-5daf-49a4-a0a5-6c4dcce8e998",
   "metadata": {
    "tags": []
   },
   "outputs": [
    {
     "name": "stdout",
     "output_type": "stream",
     "text": [
      "Connected to the database\n",
      "+--------------+--------------------------------------------------------------------+--------------------------------------------------------------------------------------------------------------------------------------------------------------------------------------------------------------------------------------------+--------------------------------------------------------------------+---------------+------------+------------------------------------------------------------------------+------------------------------------------------------------------------+------------------------------------------------------------------------+----------------+---------------------+----------+\n",
      "|   product_id | product_title                                                      | product_description                                                                                                                                                                                                                        | productt_keywords                                                  |   category_id |   brand_id | product_image1                                                         | product_image2                                                         | product_image3                                                         |   prduct_price | date                | status   |\n",
      "+==============+====================================================================+============================================================================================================================================================================================================================================+====================================================================+===============+============+========================================================================+========================================================================+========================================================================+================+=====================+==========+\n",
      "|            3 | BFGoodrich-Terrain-T-A-KO2-Radial-tire-LT265-60R18-E-119-116S-119S | The BFGoodrich KO2: Premier all-terrain tire for trucks & SUVs. Aggressive tread, durability, 119/116S load index. Perfect for off-road & on-road. Buy for reliability!                                                                    | BFGoodrich-Terrain                                                 |             5 |         15 | BFGoodrich-Terrain-T-A-KO2-Radial-tire-LT265-60R18-E-119-116S-119S.jpg | BFGoodrich-Terrain-T-A-KO2-Radial-tire-LT265-60R18-E-119-116S-119S.jpg | BFGoodrich-Terrain-T-A-KO2-Radial-tire-LT265-60R18-E-119-116S-119S.jpg |          25000 | 2023-09-05 14:24:35 | true     |\n",
      "+--------------+--------------------------------------------------------------------+--------------------------------------------------------------------------------------------------------------------------------------------------------------------------------------------------------------------------------------------+--------------------------------------------------------------------+---------------+------------+------------------------------------------------------------------------+------------------------------------------------------------------------+------------------------------------------------------------------------+----------------+---------------------+----------+\n",
      "|            4 | BF Goodrich Trail Terrain T 26560R18 110T Tire                     | \"Discover the BF Goodrich Trail Terrain T 265/60R18 110T Tire in Nairobi, Kenya. This versatile all-terrain tire offers superior performance on and off the road, perfect for Kenyan adventures. Get yours for reliability and stability!\" | BF Goodrich Trail                                                  |             7 |         15 | BF Goodrich Trail Terrain T 26560R18 110T Tire.jpg                     | BF Goodrich Trail Terrain T 26560R18 110T Tire.jpg                     | BF Goodrich Trail Terrain T 26560R18 110T Tire.jpg                     |          25000 | 2023-09-05 14:28:21 | true     |\n",
      "+--------------+--------------------------------------------------------------------+--------------------------------------------------------------------------------------------------------------------------------------------------------------------------------------------------------------------------------------------+--------------------------------------------------------------------+---------------+------------+------------------------------------------------------------------------+------------------------------------------------------------------------+------------------------------------------------------------------------+----------------+---------------------+----------+\n",
      "|            5 | Bosch DIN 74 S4H35 74AH Battery                                    | \"Upgrade your vehicle with the Bosch DIN 74 S4H35 74AH Battery in Nairobi, Kenya. Enjoy reliable starting power and longevity. Get your battery today for worry-free driving in Nairobi!\"                                                  | Bosch DIN                                                          |            15 |          1 | Bosch DIN 74 S4H35 74AH Battery.jpg                                    | Bosch DIN 74 S4H35 74AH Battery.jpg                                    | Bosch DIN 74 S4H35 74AH Battery.jpg                                    |          15000 | 2023-09-05 14:30:14 | true     |\n",
      "+--------------+--------------------------------------------------------------------+--------------------------------------------------------------------------------------------------------------------------------------------------------------------------------------------------------------------------------------------+--------------------------------------------------------------------+---------------+------------+------------------------------------------------------------------------+------------------------------------------------------------------------+------------------------------------------------------------------------+----------------+---------------------+----------+\n",
      "|            6 | bridgestone-sport-rft                                              | \"Experience the ultimate performance with Bridgestone Sport RFT tires in Nairobi, Kenya. These run-flat tires offer superb handling, safety, and durability for Nairobi's roads. Upgrade your ride today!\"                                 | bridgestone-sport-rft                                              |             1 |          2 | bridgestone-sport-rft.jpg                                              | bridgestone-sport-rft.jpg                                              | bridgestone-sport-rft.jpg                                              |          25000 | 2023-09-05 14:37:24 | true     |\n",
      "+--------------+--------------------------------------------------------------------+--------------------------------------------------------------------------------------------------------------------------------------------------------------------------------------------------------------------------------------------+--------------------------------------------------------------------+---------------+------------+------------------------------------------------------------------------+------------------------------------------------------------------------+------------------------------------------------------------------------+----------------+---------------------+----------+\n",
      "|            7 | DUNLOP GRANDTREK AT30 26555R19                                     | Unleash off-road adventure. Exceptional traction & durability in a versatile tire. Your journey, elevated.                                                                                                                                 | DUNLOP GRANDTREK AT30                                              |             8 |          8 | DUNLOP GRANDTREK AT30 26555R19.jpg                                     | DUNLOP GRANDTREK AT30 26555R19.jpg                                     | DUNLOP GRANDTREK AT30 26555R19.jpg                                     |          25000 | 2023-09-05 14:39:43 | true     |\n",
      "+--------------+--------------------------------------------------------------------+--------------------------------------------------------------------------------------------------------------------------------------------------------------------------------------------------------------------------------------------+--------------------------------------------------------------------+---------------+------------+------------------------------------------------------------------------+------------------------------------------------------------------------+------------------------------------------------------------------------+----------------+---------------------+----------+\n",
      "|            8 | Smart Car TPMS Tire Pressure Monitoring System Solar Power Digital | Enhance your driving safety with the Smart Car TPMS Solar Power Digital System. Monitor tire pressure effortlessly, ensuring a smooth and secure journey.                                                                                  | Smart Car TPMS Tire Pressure Monitoring System Solar Power Digital |            10 |         14 | Smart Car TPMS Tire Pressure Monitoring System Solar Power Digital.jpg | Smart Car TPMS Tire Pressure Monitoring System Solar Power Digital.jpg | Smart Car TPMS Tire Pressure Monitoring System Solar Power Digital.jpg |          15000 | 2023-09-05 14:41:45 | true     |\n",
      "+--------------+--------------------------------------------------------------------+--------------------------------------------------------------------------------------------------------------------------------------------------------------------------------------------------------------------------------------------+--------------------------------------------------------------------+---------------+------------+------------------------------------------------------------------------+------------------------------------------------------------------------+------------------------------------------------------------------------+----------------+---------------------+----------+\n",
      "|            9 | Smart Car TPMS Tire Pressure Monitoring System Solar Power Digital | Enhance your driving safety with the Smart Car TPMS Solar Power Digital System. Monitor tire pressure effortlessly, ensuring a smooth and secure journey.                                                                                  | Smart Car TPMS Tire Pressure Monitoring System Solar Power Digital |            10 |         14 | Smart Car TPMS Tire Pressure Monitoring System Solar Power Digital.jpg | Smart Car TPMS Tire Pressure Monitoring System Solar Power Digital.jpg | Smart Car TPMS Tire Pressure Monitoring System Solar Power Digital.jpg |          15000 | 2023-09-05 19:40:32 | true     |\n",
      "+--------------+--------------------------------------------------------------------+--------------------------------------------------------------------------------------------------------------------------------------------------------------------------------------------------------------------------------------------+--------------------------------------------------------------------+---------------+------------+------------------------------------------------------------------------+------------------------------------------------------------------------+------------------------------------------------------------------------+----------------+---------------------+----------+\n",
      "|           10 | Smart Car TPMS Tire Pressure Monitoring System Solar Power Digital | Enhance your driving safety with the Smart Car TPMS Solar Power Digital System. Monitor tire pressure effortlessly, ensuring a smooth and secure journey.                                                                                  | Smart Car TPMS Tire Pressure Monitoring System Solar Power Digital |            10 |         14 | Smart Car TPMS Tire Pressure Monitoring System Solar Power Digital.jpg | Smart Car TPMS Tire Pressure Monitoring System Solar Power Digital.jpg | Smart Car TPMS Tire Pressure Monitoring System Solar Power Digital.jpg |          15000 | 2023-09-06 12:16:43 | true     |\n",
      "+--------------+--------------------------------------------------------------------+--------------------------------------------------------------------------------------------------------------------------------------------------------------------------------------------------------------------------------------------+--------------------------------------------------------------------+---------------+------------+------------------------------------------------------------------------+------------------------------------------------------------------------+------------------------------------------------------------------------+----------------+---------------------+----------+\n"
     ]
    }
   ],
   "source": [
    "import mysql.connector\n",
    "from tabulate import tabulate\n",
    "\n",
    "host = 'localhost'\n",
    "database = 'mystore'\n",
    "username = 'root'\n",
    "password = ''\n",
    "\n",
    "try:\n",
    "    conn = mysql.connector.connect(\n",
    "        host=host,\n",
    "        database=database,\n",
    "        user=username,\n",
    "        password=password\n",
    "    )\n",
    "    cursor = conn.cursor()\n",
    "    print(\"Connected to the database\")\n",
    "\n",
    "    # Execute SQL query and retrieve data\n",
    "    cursor.execute(\"SELECT * FROM products\")\n",
    "    rows = cursor.fetchall()\n",
    "\n",
    "    # Define the table headers\n",
    "    headers = [desc[0] for desc in cursor.description]\n",
    "\n",
    "    # Format and display the data in a table\n",
    "    table = tabulate(rows, headers, tablefmt=\"grid\")\n",
    "    print(table)\n",
    "\n",
    "    # Close the connection\n",
    "    conn.close()\n",
    "except Exception as e:\n",
    "    print(f\"Error: {str(e)}\")\n"
   ]
  }
 ],
 "metadata": {
  "kernelspec": {
   "display_name": "Python 3 (ipykernel)",
   "language": "python",
   "name": "python3"
  },
  "language_info": {
   "codemirror_mode": {
    "name": "ipython",
    "version": 3
   },
   "file_extension": ".py",
   "mimetype": "text/x-python",
   "name": "python",
   "nbconvert_exporter": "python",
   "pygments_lexer": "ipython3",
   "version": "3.11.4"
  }
 },
 "nbformat": 4,
 "nbformat_minor": 5
}

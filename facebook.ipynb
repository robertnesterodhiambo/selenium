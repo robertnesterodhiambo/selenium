{
 "cells": [
  {
   "cell_type": "code",
   "execution_count": 8,
   "id": "521c5410-d78f-400a-816b-f792938789fd",
   "metadata": {
    "tags": []
   },
   "outputs": [
    {
     "name": "stderr",
     "output_type": "stream",
     "text": [
      "The geckodriver version (0.33.0) detected in PATH at c:\\Users\\ROBERT\\3D Objects\\git hub\\selenium\\geckodriver.exe might not be compatible with the detected firefox version (122.0.1.8801); currently, geckodriver 0.34.0 is recommended for firefox 122.*, so it is advised to delete the driver in PATH and retry\n"
     ]
    }
   ],
   "source": [
    "from selenium import webdriver\n",
    "import time\n",
    "\n",
    "# Set up the Firefox WebDriver\n",
    "driver = webdriver.Firefox()\n",
    "\n",
    "# Open the Facebook homepage\n",
    "driver.get(\"https://www.facebook.com\")\n",
    "\n",
    "# Find the input field using the CSS selector and enter your credentials\n",
    "input_field = driver.find_element(\"css selector\", \"input.inputtext._55r1._6luy#email\")\n",
    "input_field.send_keys(\"0745028222\")\n",
    "\n",
    "# Find the input field for the password using the CSS selector\n",
    "password_field = driver.find_element(\"css selector\", \"input.inputtext._55r1._6luy._9npi#pass\")\n",
    "password_field.send_keys(\"241632641282565121024+*\")\n",
    "\n",
    "# Find the login button by its CSS selector and click it\n",
    "login_button = driver.find_element(\"css selector\", \"button._42ft._4jy0._6lth._4jy6._4jy1.selected\")\n",
    "login_button.click()\n",
    "\n",
    "# Wait for a few seconds to ensure the login is complete\n",
    "time.sleep(10)\n",
    "\n",
    "# Open the specified URL\n",
    "search_url = \"https://www.facebook.com/search/posts?q=virtual%20assistant%20jobs&filters=eyJyZWNlbnRfcG9zdHM6MCI6IntcIm5hbWVcIjpcInJlY2VudF9wb3N0c1wiLFwiYXJnc1wiOlwiXCJ9In0%3D&safe=strict\"\n",
    "driver.get(search_url)\n",
    "\n",
    "# Close the browser\n",
    "driver.quit()\n"
   ]
  },
  {
   "cell_type": "code",
   "execution_count": 12,
   "id": "bd297dad-5798-49c1-a623-b036c84a3aa4",
   "metadata": {
    "tags": []
   },
   "outputs": [
    {
     "name": "stderr",
     "output_type": "stream",
     "text": [
      "The geckodriver version (0.33.0) detected in PATH at c:\\Users\\ROBERT\\3D Objects\\git hub\\selenium\\geckodriver.exe might not be compatible with the detected firefox version (122.0.1.8801); currently, geckodriver 0.34.0 is recommended for firefox 122.*, so it is advised to delete the driver in PATH and retry\n"
     ]
    },
    {
     "ename": "WebDriverException",
     "evalue": "Message: Failed to decode response from marionette\n",
     "output_type": "error",
     "traceback": [
      "\u001b[1;31m---------------------------------------------------------------------------\u001b[0m",
      "\u001b[1;31mWebDriverException\u001b[0m                        Traceback (most recent call last)",
      "Cell \u001b[1;32mIn[12], line 32\u001b[0m\n\u001b[0;32m     30\u001b[0m \u001b[38;5;66;03m# Scroll down to load more content (you can adjust the number of times you want to scroll)\u001b[39;00m\n\u001b[0;32m     31\u001b[0m \u001b[38;5;28;01mfor\u001b[39;00m _ \u001b[38;5;129;01min\u001b[39;00m \u001b[38;5;28mrange\u001b[39m(\u001b[38;5;241m15\u001b[39m):  \u001b[38;5;66;03m# Scroll 5 times, you can change this value\u001b[39;00m\n\u001b[1;32m---> 32\u001b[0m     driver\u001b[38;5;241m.\u001b[39mfind_element(\u001b[38;5;124m\"\u001b[39m\u001b[38;5;124mcss selector\u001b[39m\u001b[38;5;124m\"\u001b[39m, \u001b[38;5;124m'\u001b[39m\u001b[38;5;124mbody\u001b[39m\u001b[38;5;124m'\u001b[39m)\u001b[38;5;241m.\u001b[39msend_keys(Keys\u001b[38;5;241m.\u001b[39mEND)\n\u001b[0;32m     33\u001b[0m     time\u001b[38;5;241m.\u001b[39msleep(\u001b[38;5;241m5\u001b[39m)  \u001b[38;5;66;03m# Add a sleep to allow content to load\u001b[39;00m\n\u001b[0;32m     35\u001b[0m \u001b[38;5;66;03m# Find all the span elements with the specified class for job_poster\u001b[39;00m\n",
      "File \u001b[1;32mc:\\Users\\ROBERT\\anaconda3\\Lib\\site-packages\\selenium\\webdriver\\remote\\webdriver.py:741\u001b[0m, in \u001b[0;36mWebDriver.find_element\u001b[1;34m(self, by, value)\u001b[0m\n\u001b[0;32m    738\u001b[0m     by \u001b[38;5;241m=\u001b[39m By\u001b[38;5;241m.\u001b[39mCSS_SELECTOR\n\u001b[0;32m    739\u001b[0m     value \u001b[38;5;241m=\u001b[39m \u001b[38;5;124mf\u001b[39m\u001b[38;5;124m'\u001b[39m\u001b[38;5;124m[name=\u001b[39m\u001b[38;5;124m\"\u001b[39m\u001b[38;5;132;01m{\u001b[39;00mvalue\u001b[38;5;132;01m}\u001b[39;00m\u001b[38;5;124m\"\u001b[39m\u001b[38;5;124m]\u001b[39m\u001b[38;5;124m'\u001b[39m\n\u001b[1;32m--> 741\u001b[0m \u001b[38;5;28;01mreturn\u001b[39;00m \u001b[38;5;28mself\u001b[39m\u001b[38;5;241m.\u001b[39mexecute(Command\u001b[38;5;241m.\u001b[39mFIND_ELEMENT, {\u001b[38;5;124m\"\u001b[39m\u001b[38;5;124musing\u001b[39m\u001b[38;5;124m\"\u001b[39m: by, \u001b[38;5;124m\"\u001b[39m\u001b[38;5;124mvalue\u001b[39m\u001b[38;5;124m\"\u001b[39m: value})[\u001b[38;5;124m\"\u001b[39m\u001b[38;5;124mvalue\u001b[39m\u001b[38;5;124m\"\u001b[39m]\n",
      "File \u001b[1;32mc:\\Users\\ROBERT\\anaconda3\\Lib\\site-packages\\selenium\\webdriver\\remote\\webdriver.py:347\u001b[0m, in \u001b[0;36mWebDriver.execute\u001b[1;34m(self, driver_command, params)\u001b[0m\n\u001b[0;32m    345\u001b[0m response \u001b[38;5;241m=\u001b[39m \u001b[38;5;28mself\u001b[39m\u001b[38;5;241m.\u001b[39mcommand_executor\u001b[38;5;241m.\u001b[39mexecute(driver_command, params)\n\u001b[0;32m    346\u001b[0m \u001b[38;5;28;01mif\u001b[39;00m response:\n\u001b[1;32m--> 347\u001b[0m     \u001b[38;5;28mself\u001b[39m\u001b[38;5;241m.\u001b[39merror_handler\u001b[38;5;241m.\u001b[39mcheck_response(response)\n\u001b[0;32m    348\u001b[0m     response[\u001b[38;5;124m\"\u001b[39m\u001b[38;5;124mvalue\u001b[39m\u001b[38;5;124m\"\u001b[39m] \u001b[38;5;241m=\u001b[39m \u001b[38;5;28mself\u001b[39m\u001b[38;5;241m.\u001b[39m_unwrap_value(response\u001b[38;5;241m.\u001b[39mget(\u001b[38;5;124m\"\u001b[39m\u001b[38;5;124mvalue\u001b[39m\u001b[38;5;124m\"\u001b[39m, \u001b[38;5;28;01mNone\u001b[39;00m))\n\u001b[0;32m    349\u001b[0m     \u001b[38;5;28;01mreturn\u001b[39;00m response\n",
      "File \u001b[1;32mc:\\Users\\ROBERT\\anaconda3\\Lib\\site-packages\\selenium\\webdriver\\remote\\errorhandler.py:229\u001b[0m, in \u001b[0;36mErrorHandler.check_response\u001b[1;34m(self, response)\u001b[0m\n\u001b[0;32m    227\u001b[0m         alert_text \u001b[38;5;241m=\u001b[39m value[\u001b[38;5;124m\"\u001b[39m\u001b[38;5;124malert\u001b[39m\u001b[38;5;124m\"\u001b[39m]\u001b[38;5;241m.\u001b[39mget(\u001b[38;5;124m\"\u001b[39m\u001b[38;5;124mtext\u001b[39m\u001b[38;5;124m\"\u001b[39m)\n\u001b[0;32m    228\u001b[0m     \u001b[38;5;28;01mraise\u001b[39;00m exception_class(message, screen, stacktrace, alert_text)  \u001b[38;5;66;03m# type: ignore[call-arg]  # mypy is not smart enough here\u001b[39;00m\n\u001b[1;32m--> 229\u001b[0m \u001b[38;5;28;01mraise\u001b[39;00m exception_class(message, screen, stacktrace)\n",
      "\u001b[1;31mWebDriverException\u001b[0m: Message: Failed to decode response from marionette\n"
     ]
    }
   ],
   "source": [
    "from selenium import webdriver\n",
    "import time\n",
    "from selenium.webdriver.common.keys import Keys\n",
    "\n",
    "# Set up the Firefox WebDriver\n",
    "driver = webdriver.Firefox()\n",
    "\n",
    "# Open the Facebook homepage\n",
    "driver.get(\"https://www.facebook.com\")\n",
    "\n",
    "# Find the input field using multiple classes and the id and enter your credentials\n",
    "input_field = driver.find_element(\"css selector\", \"input.inputtext._55r1._6luy#email\")\n",
    "input_field.send_keys(\"0745028222\")\n",
    "\n",
    "# Find the input field for the password using multiple classes and the id\n",
    "password_field = driver.find_element(\"css selector\", \"input.inputtext._55r1._6luy._9npi#pass\")\n",
    "password_field.send_keys(\"241632641282565121024+*\")\n",
    "\n",
    "# Find the login button by its classes and click it\n",
    "login_button = driver.find_element(\"css selector\", \"button._42ft._4jy0._6lth._4jy6._4jy1.selected\")\n",
    "login_button.click()\n",
    "\n",
    "# Wait for a few seconds to ensure the login is complete\n",
    "time.sleep(10)\n",
    "\n",
    "# Open the specified URL\n",
    "search_url = \"https://www.facebook.com/search/posts?q=virtual%20assistant%20jobs&filters=eyJyZWNlbnRfcG9zdHM6MCI6IntcIm5hbWVcIjpcInJlY2VudF9wb3N0c1wiLFwiYXJnc1wiOlwiXCJ9In0%3D&safe=strict\"\n",
    "driver.get(search_url)\n",
    "\n",
    "# Scroll down to load more content (you can adjust the number of times you want to scroll)\n",
    "for _ in range(15):  # Scroll 5 times, you can change this value\n",
    "    driver.find_element(\"css selector\", 'body').send_keys(Keys.END)\n",
    "    time.sleep(5)  # Add a sleep to allow content to load\n",
    "\n",
    "# Find all the span elements with the specified class for job_poster\n",
    "job_poster_elements =  driver.find_elements(\"css selector\", \"span.x193iq5w.xeuugli.x13faqbe.x1vvkbs.x1xmvt09.x1nxh6w3.x1sibtaa.x1s688f.xi81zsa\")\n",
    "\n",
    "# Extract and save the text from each span element as job_poster\n",
    "job_poster = [element.text for element in job_poster_elements]\n",
    "\n",
    "# Find all the span elements with the specified class for about_job\n",
    "about_job_elements = driver.find_elements(\"css selector\", \"span.x193iq5w.xeuugli.x13faqbe.x1vvkbs.x1xmvt09.x1lliihq.x1s928wv.xhkezso.x1gmr53x.x1cpjm7i.x1fgarty.x1943h6x.xudqn12.x3x7a5m.x6prxxf.xvq8zen.xo1l8bm.xzsf02u.x1yc453h\")\n",
    "\n",
    "# Extract and save the text from each span element as about_job\n",
    "about_job = [element.text for element in about_job_elements]\n",
    "\n",
    "# Find all the anchor elements with the specified class for job_link\n",
    "job_link_elements = driver.find_elements(\"css selector\", \"a.x1i10hfl.xjbqb8w.x6umtig.x1b1mbwd.xaqea5y.xav7gou.x9f619.x1ypdohk.xt0psk2.xe8uvvx.xdj266r.x11i5rnm.xat24cr.x1mh8g0r.xexx8yu.x4uap5.x18d9i69.xkhd6sd.x16tdsg8.x1hl2dhg.xggy1nq.x1a2a7pz.x1heor9g.xt0b8zv.xo1l8bm\")\n",
    "\n",
    "# Extract and save the href attribute (link) from each anchor element as job_link\n",
    "job_links = [element.get_attribute(\"href\") for element in job_link_elements]\n",
    "\n",
    "# Close the browser\n",
    "driver.quit()\n",
    "\n",
    "# Create dataframes from the collected data\n",
    "job_poster_df = pd.DataFrame({\"job_poster\": job_poster})\n",
    "about_job_df = pd.DataFrame({\"about_job\": about_job})\n",
    "job_links_df = pd.DataFrame({\"job_link\": job_links})\n",
    "\n",
    "# Merge the dataframes\n",
    "merged_df = pd.concat([job_poster_df, about_job_df, job_links_df], axis=1)\n",
    "\n",
    "# Print the merged dataframe\n",
    "print(merged_df)\n"
   ]
  },
  {
   "cell_type": "code",
   "execution_count": null,
   "id": "bb1a1b1a-13dd-4bd0-a0bc-fbcc8783c389",
   "metadata": {
    "tags": []
   },
   "outputs": [
    {
     "name": "stdout",
     "output_type": "stream",
     "text": [
      "Data has been saved to merged_data.xlsx\n"
     ]
    }
   ],
   "source": [
    "# Assuming you already have the merged_df dataframe\n",
    "\n",
    "# Specify the file path where you want to save the Excel file\n",
    "excel_file_path = \"merged_data.xlsx\"\n",
    "\n",
    "# Write the dataframe to the Excel file\n",
    "merged_df.to_excel(excel_file_path, index=False)\n",
    "\n",
    "# Confirm that the data has been saved\n",
    "print(f\"Data has been saved to {excel_file_path}\")\n"
   ]
  },
  {
   "cell_type": "code",
   "execution_count": null,
   "id": "11ede86a-00d5-4f1e-9982-ebb072c527ef",
   "metadata": {
    "tags": []
   },
   "outputs": [
    {
     "ename": "NameError",
     "evalue": "name 'merged_df' is not defined",
     "output_type": "error",
     "traceback": [
      "\u001b[1;31m---------------------------------------------------------------------------\u001b[0m",
      "\u001b[1;31mNameError\u001b[0m                                 Traceback (most recent call last)",
      "Cell \u001b[1;32mIn[6], line 1\u001b[0m\n\u001b[1;32m----> 1\u001b[0m merged_df\n",
      "\u001b[1;31mNameError\u001b[0m: name 'merged_df' is not defined"
     ]
    }
   ],
   "source": [
    "merged_df"
   ]
  },
  {
   "cell_type": "code",
   "execution_count": null,
   "id": "1b930890",
   "metadata": {},
   "outputs": [],
   "source": []
  }
 ],
 "metadata": {
  "kernelspec": {
   "display_name": "Python 3 (ipykernel)",
   "language": "python",
   "name": "python3"
  },
  "language_info": {
   "codemirror_mode": {
    "name": "ipython",
    "version": 3
   },
   "file_extension": ".py",
   "mimetype": "text/x-python",
   "name": "python",
   "nbconvert_exporter": "python",
   "pygments_lexer": "ipython3",
   "version": "3.11.5"
  }
 },
 "nbformat": 4,
 "nbformat_minor": 5
}

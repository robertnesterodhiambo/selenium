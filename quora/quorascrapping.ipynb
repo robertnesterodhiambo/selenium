{
 "cells": [
  {
   "cell_type": "code",
   "execution_count": 2,
   "metadata": {},
   "outputs": [
    {
     "name": "stdout",
     "output_type": "stream",
     "text": [
      "                                          Answer url  Share Counts\n",
      "0  https://www.quora.com/What-is-something-I-can-...          23.0\n",
      "1  https://www.quora.com/What-is-something-I-can-...           1.0\n",
      "2  https://www.quora.com/What-is-something-I-can-...           0.0\n",
      "3  https://www.quora.com/What-is-something-I-can-...           0.0\n",
      "4  https://www.quora.com/What-is-something-I-can-...           0.0\n"
     ]
    }
   ],
   "source": [
    "import pandas as pd\n",
    "\n",
    "# Load the Excel file into a DataFrame\n",
    "folder_path = \"C:/Users/ROBERT/3D Objects/git hub/selenium/quora/\"\n",
    "file_name = \"quoaralink.xlsx\"\n",
    "df = pd.read_excel(folder_path + file_name)\n",
    "\n",
    "# Display the DataFrame to ensure it was loaded correctly\n",
    "print(df.head())\n"
   ]
  },
  {
   "cell_type": "code",
   "execution_count": 3,
   "metadata": {},
   "outputs": [
    {
     "data": {
      "text/plain": [
       "Index(['Answer url', 'Share Counts'], dtype='object')"
      ]
     },
     "execution_count": 3,
     "metadata": {},
     "output_type": "execute_result"
    }
   ],
   "source": [
    "df.columns"
   ]
  },
  {
   "cell_type": "code",
   "execution_count": 16,
   "metadata": {},
   "outputs": [
    {
     "name": "stdout",
     "output_type": "stream",
     "text": [
      "Text from div element: 77.2K viewsView upvotesView 23 shares\n",
      "1 of 1.1K answers\n",
      "Text from div element: 427 viewsView upvotesView 1 share\n",
      "1 of 1.1K answers\n",
      "Text from div element: 432 viewsView upvotes\n",
      "1 of 1.1K answers\n",
      "Text from div element: 55 viewsView upvotesAnswer requested by\n",
      "Potato Ato\n",
      "1 of 1.1K answers\n",
      "Text from div element: 21 viewsView upvotes\n",
      "1 of 1.1K answers\n"
     ]
    }
   ],
   "source": [
    "from selenium import webdriver\n",
    "from selenium.webdriver.firefox.options import Options\n",
    "from selenium.webdriver.common.by import By\n",
    "from selenium.webdriver.support.ui import WebDriverWait\n",
    "from selenium.webdriver.support import expected_conditions as EC\n",
    "import pandas as pd\n",
    "\n",
    "# Assuming df is your DataFrame containing the links\n",
    "# Example DataFrame:\n",
    "# df = pd.DataFrame({'Answer url': ['http://example.com/page1', 'http://example.com/page2']})\n",
    "\n",
    "# Path to your Gecko (Firefox) webdriver\n",
    "webdriver_path = 'geckodriver.exe'  # Update with the correct path to geckodriver executable\n",
    "\n",
    "# Configure Firefox options\n",
    "firefox_options = Options()\n",
    "firefox_options.headless = False  # Set to True for headless mode (without opening browser window)\n",
    "\n",
    "# Initialize Firefox webdriver\n",
    "driver = webdriver.Firefox(options=firefox_options)\n",
    "\n",
    "# Select the first 10 rows\n",
    "df = df.iloc[:10]\n",
    "\n",
    "# Iterate over each URL in the 'Answer url' column\n",
    "for url in df['Answer url']:\n",
    "    try:\n",
    "        # Open the URL in the browser\n",
    "        driver.get(url)\n",
    "        \n",
    "        # Wait for the page to fully render (adjust timeout as needed)\n",
    "        WebDriverWait(driver, 10).until(EC.presence_of_element_located((By.CSS_SELECTOR, '.q-flex.qu-justifyContent--space-between.AnswerFooter___StyledFlex-sc-2xbo88-0.kcDxwV')))\n",
    "        \n",
    "        # Find all div elements with the specified class name\n",
    "        div_elements = driver.find_elements(By.CSS_SELECTOR, '.q-flex.qu-justifyContent--space-between.AnswerFooter___StyledFlex-sc-2xbo88-0.kcDxwV')\n",
    "        \n",
    "        # Extract text from each div element\n",
    "        for div_element in div_elements:\n",
    "            div_text = div_element.text\n",
    "            print(\"Text from div element:\", div_text)\n",
    "        \n",
    "    except Exception as e:\n",
    "        print(f\"Error occurred while processing {url}: {e}\")\n",
    "\n",
    "# Close the webdriver\n",
    "driver.quit()\n"
   ]
  },
  {
   "cell_type": "code",
   "execution_count": 3,
   "metadata": {},
   "outputs": [],
   "source": [
    "from selenium import webdriver\n",
    "from selenium.webdriver.firefox.options import Options\n",
    "from selenium.webdriver.common.by import By\n",
    "from selenium.webdriver.support.ui import WebDriverWait\n",
    "from selenium.webdriver.support import expected_conditions as EC\n",
    "import pandas as pd\n",
    "\n",
    "# Assuming df is your DataFrame containing the links\n",
    "# Example DataFrame:\n",
    "# df = pd.DataFrame({'Answer url': ['http://example.com/page1', 'http://example.com/page2']})\n",
    "\n",
    "# Path to your Gecko (Firefox) webdriver\n",
    "# Update with the correct path to geckodriver executable\n",
    "\n",
    "# Configure Firefox options\n",
    "firefox_options = Options()\n",
    "firefox_options.headless = False  # Set to True for headless mode (without opening browser window)\n",
    "\n",
    "# Initialize Firefox webdriver\n",
    "driver = webdriver.Firefox(options=firefox_options)\n",
    "\n",
    "# Select the first 10 rows\n",
    "df = df.iloc[:10]\n",
    "\n",
    "# Create a new column 'divtext' in the DataFrame\n",
    "df['divtext'] = \"\"\n",
    "\n",
    "# Iterate over each URL in the 'Answer url' column\n",
    "for i, url in enumerate(df['Answer url']):\n",
    "    try:\n",
    "        # Open the URL in the browser\n",
    "        driver.get(url)\n",
    "        \n",
    "        # Wait for the page to fully render (adjust timeout as needed)\n",
    "        WebDriverWait(driver, 10).until(EC.presence_of_element_located((By.CSS_SELECTOR, '.q-flex.qu-justifyContent--space-between.AnswerFooter___StyledFlex-sc-2xbo88-0.kcDxwV')))\n",
    "        \n",
    "        # Find all div elements with the specified class name\n",
    "        div_elements = driver.find_elements(By.CSS_SELECTOR, '.q-flex.qu-justifyContent--space-between.AnswerFooter___StyledFlex-sc-2xbo88-0.kcDxwV')\n",
    "        \n",
    "        # Extract text from each div element and assign it to the 'divtext' column\n",
    "        div_texts = [div_element.text for div_element in div_elements]\n",
    "        df.at[i, 'divtext'] = ', '.join(div_texts)\n",
    "        \n",
    "    except Exception as e:\n",
    "        print(f\"Error occurred while processing {url}: {e}\")\n",
    "\n",
    "# Close the webdriver\n",
    "driver.quit()\n",
    "\n",
    "# Print the updated DataFrame\n",
    "print(df)\n"
   ]
  },
  {
   "cell_type": "code",
   "execution_count": null,
   "metadata": {},
   "outputs": [],
   "source": []
  }
 ],
 "metadata": {
  "kernelspec": {
   "display_name": "base",
   "language": "python",
   "name": "python3"
  },
  "language_info": {
   "codemirror_mode": {
    "name": "ipython",
    "version": 3
   },
   "file_extension": ".py",
   "mimetype": "text/x-python",
   "name": "python",
   "nbconvert_exporter": "python",
   "pygments_lexer": "ipython3",
   "version": "3.11.5"
  }
 },
 "nbformat": 4,
 "nbformat_minor": 2
}

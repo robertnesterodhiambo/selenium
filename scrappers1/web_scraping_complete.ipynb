{
 "cells": [
  {
   "cell_type": "code",
   "execution_count": 12,
   "id": "66cd6b02",
   "metadata": {},
   "outputs": [
    {
     "data": {
      "text/html": [
       "<style>.container { width:100% !important; }</style>"
      ],
      "text/plain": [
       "<IPython.core.display.HTML object>"
      ]
     },
     "metadata": {},
     "output_type": "display_data"
    }
   ],
   "source": [
    "# from IPython.core.display import display, HTML\n",
    "# display(HTML(\"<style>.container { width:100% !important; }</style>\"))"
   ]
  },
  {
   "cell_type": "code",
   "execution_count": 1,
   "id": "52674272",
   "metadata": {
    "tags": []
   },
   "outputs": [],
   "source": [
    "import os\n",
    "import pandas as pd\n",
    "from bs4 import BeautifulSoup\n",
    "from selenium import webdriver\n",
    "from selenium.webdriver.common.by import By\n",
    "from selenium.webdriver.firefox.options import Options\n",
    "from selenium.webdriver.support.ui import WebDriverWait\n",
    "from selenium.webdriver.support import expected_conditions as EC"
   ]
  },
  {
   "cell_type": "code",
   "execution_count": null,
   "id": "40b83633",
   "metadata": {
    "tags": []
   },
   "outputs": [],
   "source": [
    "os.environ[\"PATH\"] += os.pathsep + \"\"\n",
    "options = Options()\n",
    "options.headless = False  # Running browser in non-headless mode for user interaction\n",
    "geckodriver_path = \"geckodriver.exe\"\n",
    "driver = webdriver.Firefox(options=options)\n",
    "url = 'https://app.alt.xyz/browse/liquid-auctions?auctionHouse=Alt&auctionHouse=eBay&sortBy=highest_alt_value_first'\n",
    "driver.get(url)\n",
    "\n",
    "# Wait for the user to manually close the browser\n",
    "final_url = None\n",
    "while True:\n",
    "    try:\n",
    "        # Continuously get the current URL\n",
    "        final_url = driver.current_url\n",
    "    except Exception as e:\n",
    "        # If an exception occurs, this means the browser has been closed\n",
    "        break"
   ]
  },
  {
   "cell_type": "code",
   "execution_count": null,
   "id": "da0dba6f",
   "metadata": {
    "tags": []
   },
   "outputs": [],
   "source": [
    "# Now use the final_url to get the content\n",
    "options.headless = True\n",
    "driver = webdriver.Firefox(options=options)  # create a new driver instance\n",
    "driver.get(final_url)\n",
    "content = driver.page_source\n",
    "driver.quit()"
   ]
  },
  {
   "cell_type": "code",
   "execution_count": null,
   "id": "0618bb61",
   "metadata": {
    "scrolled": true,
    "tags": []
   },
   "outputs": [],
   "source": [
    "soup = BeautifulSoup(content, 'html5lib')\n",
    "\n",
    "base_url = 'https://app.alt.xyz'\n",
    "links = [a[\"href\"] for a in soup.find_all('a', class_=\"css-dcq7s5\")]\n",
    "cards_n_player_number = [span.text for span in soup.find_all('span', class_=\"MuiTypography-root MuiTypography-vegaBody2 MuiTypography-noWrap css-1iu657u\")]\n",
    "card = cards_n_player_number[::2]\n",
    "player_n_number = cards_n_player_number[1::2]\n",
    "grade = [span.text for span in soup.find_all('span', class_=\"MuiTypography-root MuiTypography-vegaBody2 css-1e0sb4z\")]\n",
    "grade = [item for item in grade if item != 'No options.']\n",
    "prices = [span.text for span in soup.find_all('span', class_=\"MuiTypography-root MuiTypography-vegaH7 css-yrl21b\")]\n",
    "\n",
    "auction_data = []\n",
    "for i in range(len(prices)):\n",
    "    auction_dict = {}\n",
    "    auction_dict['link'] = base_url + links[i]\n",
    "    auction_dict['card'] = card[i]\n",
    "    auction_dict['player'] = player_n_number[i].split('#')[0]\n",
    "    if len(player_n_number[i].split('#')) > 1:\n",
    "        auction_dict['card_number'] = player_n_number[i].split('#')[1]\n",
    "    auction_dict['grade'] = grade[i]\n",
    "    auction_dict['current_price'] = prices[i]\n",
    "    auction_data.append(auction_dict)\n",
    "\n",
    "df_auction = pd.DataFrame(auction_data)"
   ]
  },
  {
   "cell_type": "markdown",
   "id": "d91fd0cb",
   "metadata": {},
   "source": [
    "# Milestone 3"
   ]
  },
  {
   "cell_type": "code",
   "execution_count": 11,
   "id": "257f8273",
   "metadata": {},
   "outputs": [
    {
     "name": "stderr",
     "output_type": "stream",
     "text": [
      "C:\\Users\\khanpami\\AppData\\Local\\Temp\\ipykernel_20176\\335987014.py:2: DeprecationWarning: headless property is deprecated, instead use add_argument('-headless')\n",
      "  options.headless = True\n"
     ]
    },
    {
     "name": "stdout",
     "output_type": "stream",
     "text": [
      "URL>>> https://app.alt.xyz/browse/external-listing?id=bf4b7727-4eeb-4073-96da-4afb1f977367&prev=%2Fbrowse%2Fliquid-auctions%3FauctionHouse%3DAlt%26auctionHouse%3DeBay%26sortBy%3Dhighest_alt_value_first\n",
      "DONE>>> https://app.alt.xyz/browse/external-listing?id=bf4b7727-4eeb-4073-96da-4afb1f977367&prev=%2Fbrowse%2Fliquid-auctions%3FauctionHouse%3DAlt%26auctionHouse%3DeBay%26sortBy%3Dhighest_alt_value_first\n",
      "URL>>> https://app.alt.xyz/liquid-auctions/select-listing?ids=a982ff85-6fc0-4d9d-8386-e9fb06b58664&prev=%2Fbrowse%2Fliquid-auctions%3FauctionHouse%3DAlt%26sortBy%3Dhighest_alt_value_first\n",
      "URL>>> https://app.alt.xyz/liquid-auctions/select-listing?ids=fae32307-7474-4485-aa6c-0540412a56a7&prev=%2Fbrowse%2Fliquid-auctions%3FauctionHouse%3DAlt%26sortBy%3Dhighest_alt_value_first\n",
      "URL>>> https://app.alt.xyz/liquid-auctions/select-listing?ids=990199c0-154d-4af2-943f-1618c723c975&prev=%2Fbrowse%2Fliquid-auctions%3FauctionHouse%3DAlt%26sortBy%3Dhighest_alt_value_first\n",
      "URL>>> https://app.alt.xyz/liquid-auctions/select-listing?ids=a2e0d922-2dcf-4c6a-96ba-0471a797fbe4&prev=%2Fbrowse%2Fliquid-auctions%3FauctionHouse%3DAlt%26sortBy%3Dhighest_alt_value_first\n",
      "URL>>> https://app.alt.xyz/liquid-auctions/select-listing?ids=dc433771-a9b5-4d4f-90b5-487be56755ff&prev=%2Fbrowse%2Fliquid-auctions%3FauctionHouse%3DAlt%26sortBy%3Dhighest_alt_value_first\n",
      "URL>>> https://app.alt.xyz/liquid-auctions/select-listing?ids=57ae3d2d-da26-4623-9644-10e63d0503bd&prev=%2Fbrowse%2Fliquid-auctions%3FauctionHouse%3DAlt%26sortBy%3Dhighest_alt_value_first\n",
      "URL>>> https://app.alt.xyz/liquid-auctions/select-listing?ids=b2186282-3dc0-43e1-ac79-23496d278c80&prev=%2Fbrowse%2Fliquid-auctions%3FauctionHouse%3DAlt%26sortBy%3Dhighest_alt_value_first\n",
      "URL>>> https://app.alt.xyz/liquid-auctions/select-listing?ids=9cf7fa82-3da7-4dd4-8a7c-edea5778eb59&prev=%2Fbrowse%2Fliquid-auctions%3FauctionHouse%3DAlt%26sortBy%3Dhighest_alt_value_first\n",
      "URL>>> https://app.alt.xyz/liquid-auctions/select-listing?ids=6814f0d7-5655-467a-bb6e-6164e24b1456&prev=%2Fbrowse%2Fliquid-auctions%3FauctionHouse%3DAlt%26sortBy%3Dhighest_alt_value_first\n",
      "URL>>> https://app.alt.xyz/liquid-auctions/select-listing?ids=93b20218-0044-4254-8b91-3ba43ad1c7a2&prev=%2Fbrowse%2Fliquid-auctions%3FauctionHouse%3DAlt%26sortBy%3Dhighest_alt_value_first\n",
      "URL>>> https://app.alt.xyz/liquid-auctions/select-listing?ids=524300e7-0204-4819-9ce0-6d7600e193f3&prev=%2Fbrowse%2Fliquid-auctions%3FauctionHouse%3DAlt%26sortBy%3Dhighest_alt_value_first\n",
      "URL>>> https://app.alt.xyz/liquid-auctions/select-listing?ids=129bc512-542b-4e9b-b7dd-a4f467a5cbfb&prev=%2Fbrowse%2Fliquid-auctions%3FauctionHouse%3DAlt%26sortBy%3Dhighest_alt_value_first\n",
      "URL>>> https://app.alt.xyz/liquid-auctions/select-listing?ids=c0a1969f-30d8-476e-b59c-f7c702b9bfa0&prev=%2Fbrowse%2Fliquid-auctions%3FauctionHouse%3DAlt%26sortBy%3Dhighest_alt_value_first\n",
      "URL>>> https://app.alt.xyz/liquid-auctions/select-listing?ids=690e7ba7-aaeb-49f9-9ccd-b7f2d7ac9368&prev=%2Fbrowse%2Fliquid-auctions%3FauctionHouse%3DAlt%26sortBy%3Dhighest_alt_value_first\n",
      "URL>>> https://app.alt.xyz/liquid-auctions/select-listing?ids=6e181f19-0281-471c-9405-0146702afbd3&prev=%2Fbrowse%2Fliquid-auctions%3FauctionHouse%3DAlt%26sortBy%3Dhighest_alt_value_first\n",
      "URL>>> https://app.alt.xyz/liquid-auctions/select-listing?ids=f6135690-3b05-4f22-a1ae-9dbd15f77417&prev=%2Fbrowse%2Fliquid-auctions%3FauctionHouse%3DAlt%26sortBy%3Dhighest_alt_value_first\n",
      "URL>>> https://app.alt.xyz/liquid-auctions/select-listing?ids=b58b1398-71fd-44d3-bf0f-bc973dd8f665&prev=%2Fbrowse%2Fliquid-auctions%3FauctionHouse%3DAlt%26sortBy%3Dhighest_alt_value_first\n",
      "URL>>> https://app.alt.xyz/liquid-auctions/select-listing?ids=54370048-d1cb-4f21-9cf2-b0ccc53410bc&prev=%2Fbrowse%2Fliquid-auctions%3FauctionHouse%3DAlt%26sortBy%3Dhighest_alt_value_first\n",
      "URL>>> https://app.alt.xyz/liquid-auctions/select-listing?ids=57897eea-98bd-4977-825d-3fe94f6a22ff&prev=%2Fbrowse%2Fliquid-auctions%3FauctionHouse%3DAlt%26sortBy%3Dhighest_alt_value_first\n",
      "URL>>> https://app.alt.xyz/liquid-auctions/select-listing?ids=e900f787-9d7c-4098-aed9-5ec279a2c0d2&prev=%2Fbrowse%2Fliquid-auctions%3FauctionHouse%3DAlt%26sortBy%3Dhighest_alt_value_first\n",
      "URL>>> https://app.alt.xyz/liquid-auctions/select-listing?ids=36be3c24-d52d-4f6e-a6b9-4d2fb7b7d6c5&prev=%2Fbrowse%2Fliquid-auctions%3FauctionHouse%3DAlt%26sortBy%3Dhighest_alt_value_first\n",
      "URL>>> https://app.alt.xyz/liquid-auctions/select-listing?ids=00d0b7d4-3dd4-4c89-b8ec-df39adae89db&prev=%2Fbrowse%2Fliquid-auctions%3FauctionHouse%3DAlt%26sortBy%3Dhighest_alt_value_first\n",
      "URL>>> https://app.alt.xyz/liquid-auctions/select-listing?ids=608ac38d-3f58-4ecc-b043-090ca1a2f145&prev=%2Fbrowse%2Fliquid-auctions%3FauctionHouse%3DAlt%26sortBy%3Dhighest_alt_value_first\n",
      "URL>>> https://app.alt.xyz/liquid-auctions/select-listing?ids=943608bd-0ccb-452d-90e9-3f37ed6184c0&prev=%2Fbrowse%2Fliquid-auctions%3FauctionHouse%3DAlt%26sortBy%3Dhighest_alt_value_first\n",
      "URL>>> https://app.alt.xyz/liquid-auctions/select-listing?ids=ea1d3c99-11cc-4eab-a9a3-a096f942037b&prev=%2Fbrowse%2Fliquid-auctions%3FauctionHouse%3DAlt%26sortBy%3Dhighest_alt_value_first\n",
      "URL>>> https://app.alt.xyz/liquid-auctions/select-listing?ids=a9f2cd10-8c0c-4e72-9da7-62d11971372c&prev=%2Fbrowse%2Fliquid-auctions%3FauctionHouse%3DAlt%26sortBy%3Dhighest_alt_value_first\n",
      "URL>>> https://app.alt.xyz/liquid-auctions/select-listing?ids=49d58e0a-3991-4896-99eb-7937395b8362&prev=%2Fbrowse%2Fliquid-auctions%3FauctionHouse%3DAlt%26sortBy%3Dhighest_alt_value_first\n",
      "URL>>> https://app.alt.xyz/liquid-auctions/select-listing?ids=9eb1ef5e-d147-4f19-b0c3-5130d3660a0a&prev=%2Fbrowse%2Fliquid-auctions%3FauctionHouse%3DAlt%26sortBy%3Dhighest_alt_value_first\n",
      "URL>>> https://app.alt.xyz/liquid-auctions/select-listing?ids=6e5757dd-a370-487c-b254-bf77bdbb122a&prev=%2Fbrowse%2Fliquid-auctions%3FauctionHouse%3DAlt%26sortBy%3Dhighest_alt_value_first\n",
      "URL>>> https://app.alt.xyz/liquid-auctions/select-listing?ids=7b1b9c30-1109-4479-9e8b-86041307e436&prev=%2Fbrowse%2Fliquid-auctions%3FauctionHouse%3DAlt%26sortBy%3Dhighest_alt_value_first\n",
      "URL>>> https://app.alt.xyz/liquid-auctions/select-listing?ids=125beeee-9ba9-41bf-a3b4-021eefcac0e8&prev=%2Fbrowse%2Fliquid-auctions%3FauctionHouse%3DAlt%26sortBy%3Dhighest_alt_value_first\n",
      "URL>>> https://app.alt.xyz/liquid-auctions/select-listing?ids=ee9666d0-d08e-4e91-8a36-7ef8e1215dd5&prev=%2Fbrowse%2Fliquid-auctions%3FauctionHouse%3DAlt%26sortBy%3Dhighest_alt_value_first\n",
      "URL>>> https://app.alt.xyz/liquid-auctions/select-listing?ids=768b7056-3513-4599-8592-4326d2bc4173&prev=%2Fbrowse%2Fliquid-auctions%3FauctionHouse%3DAlt%26sortBy%3Dhighest_alt_value_first\n",
      "URL>>> https://app.alt.xyz/liquid-auctions/select-listing?ids=f60ebdc8-2364-4d01-9ade-3fff767b6b0d&prev=%2Fbrowse%2Fliquid-auctions%3FauctionHouse%3DAlt%26sortBy%3Dhighest_alt_value_first\n",
      "URL>>> https://app.alt.xyz/liquid-auctions/select-listing?ids=2ae8d1e5-81eb-4cf6-82ad-0e50eed198ba&prev=%2Fbrowse%2Fliquid-auctions%3FauctionHouse%3DAlt%26sortBy%3Dhighest_alt_value_first\n",
      "URL>>> https://app.alt.xyz/liquid-auctions/select-listing?ids=b32e8d95-0463-447d-8589-a56e187be3f4&prev=%2Fbrowse%2Fliquid-auctions%3FauctionHouse%3DAlt%26sortBy%3Dhighest_alt_value_first\n",
      "URL>>> https://app.alt.xyz/liquid-auctions/select-listing?ids=e71f8fad-9af4-4b4d-a0b0-c0decaee522f&prev=%2Fbrowse%2Fliquid-auctions%3FauctionHouse%3DAlt%26sortBy%3Dhighest_alt_value_first\n",
      "URL>>> https://app.alt.xyz/liquid-auctions/select-listing?ids=f1d79cb4-3b1b-4eac-89d6-7f0fea3390d0&prev=%2Fbrowse%2Fliquid-auctions%3FauctionHouse%3DAlt%26sortBy%3Dhighest_alt_value_first\n",
      "URL>>> https://app.alt.xyz/liquid-auctions/select-listing?ids=71eb62de-ae1b-4c85-8e02-cabe94d12a74&prev=%2Fbrowse%2Fliquid-auctions%3FauctionHouse%3DAlt%26sortBy%3Dhighest_alt_value_first\n",
      "URL>>> https://app.alt.xyz/liquid-auctions/select-listing?ids=0a849d0f-404a-45e4-a0d8-db9bb8d027a4&prev=%2Fbrowse%2Fliquid-auctions%3FauctionHouse%3DAlt%26sortBy%3Dhighest_alt_value_first\n",
      "URL>>> https://app.alt.xyz/liquid-auctions/select-listing?ids=0b100cce-636a-4743-823e-445b3b50c593&prev=%2Fbrowse%2Fliquid-auctions%3FauctionHouse%3DAlt%26sortBy%3Dhighest_alt_value_first\n",
      "URL>>> https://app.alt.xyz/liquid-auctions/select-listing?ids=09b4d610-3044-47a9-97dd-8f39aac629f6&prev=%2Fbrowse%2Fliquid-auctions%3FauctionHouse%3DAlt%26sortBy%3Dhighest_alt_value_first\n",
      "URL>>> https://app.alt.xyz/liquid-auctions/select-listing?ids=8a1d3933-1ddc-43de-b8f9-b61663540782&prev=%2Fbrowse%2Fliquid-auctions%3FauctionHouse%3DAlt%26sortBy%3Dhighest_alt_value_first\n",
      "URL>>> https://app.alt.xyz/liquid-auctions/select-listing?ids=9910515d-a536-4984-bb78-ca6c82e13c56&prev=%2Fbrowse%2Fliquid-auctions%3FauctionHouse%3DAlt%26sortBy%3Dhighest_alt_value_first\n",
      "URL>>> https://app.alt.xyz/liquid-auctions/select-listing?ids=09c6bf83-b01d-467a-83fa-a77cbc07ee2a&prev=%2Fbrowse%2Fliquid-auctions%3FauctionHouse%3DAlt%26sortBy%3Dhighest_alt_value_first\n",
      "URL>>> https://app.alt.xyz/liquid-auctions/select-listing?ids=94f6a6d1-3fe4-42c3-b569-51d6b9e82158&prev=%2Fbrowse%2Fliquid-auctions%3FauctionHouse%3DAlt%26sortBy%3Dhighest_alt_value_first\n",
      "URL>>> https://app.alt.xyz/liquid-auctions/select-listing?ids=5cb24e6c-92d7-4701-8c69-aaa295eea197&prev=%2Fbrowse%2Fliquid-auctions%3FauctionHouse%3DAlt%26sortBy%3Dhighest_alt_value_first\n",
      "URL>>> https://app.alt.xyz/liquid-auctions/select-listing?ids=31f8f8a3-b507-4151-a6b6-3295e9c3dc7d&prev=%2Fbrowse%2Fliquid-auctions%3FauctionHouse%3DAlt%26sortBy%3Dhighest_alt_value_first\n",
      "URL>>> https://app.alt.xyz/liquid-auctions/select-listing?ids=4cb40be2-664e-4bdd-85e4-c1b90592930c&prev=%2Fbrowse%2Fliquid-auctions%3FauctionHouse%3DAlt%26sortBy%3Dhighest_alt_value_first\n"
     ]
    }
   ],
   "source": [
    "options = webdriver.FirefoxOptions()\n",
    "options.headless = True\n",
    "\n",
    "stats_list = []\n",
    "\n",
    "for url in df_auction['link']:\n",
    "    with webdriver.Firefox(options=options) as driver:\n",
    "        try:\n",
    "            driver.get(url)\n",
    "\n",
    "            # Get the default div's content\n",
    "            default_div = driver.find_element(By.CSS_SELECTOR, '.MuiGrid-grid-sm-9')\n",
    "            default_content = default_div.get_attribute('outerHTML')\n",
    "\n",
    "            # Click the \"View All\" button to load the sidebar\n",
    "            view_all_button = driver.find_element(By.CSS_SELECTOR, 'button.MuiButtonBase-root:nth-child(3)')\n",
    "            view_all_button.click()\n",
    "\n",
    "            # Wait for the sidebar's specific div to be visible\n",
    "            wait = WebDriverWait(driver, 2)  # Wait for up to 2 seconds\n",
    "            sidebar_div = wait.until(EC.visibility_of_element_located((By.CSS_SELECTOR, \".css-nltf5e > div:nth-child(3)\")))\n",
    "\n",
    "            # Get the HTML content of the div\n",
    "            sidebar_content = sidebar_div.get_attribute('outerHTML')\n",
    "\n",
    "            # Create Beautiful Soup objects from the contents\n",
    "            soup_default = BeautifulSoup(default_content, 'html5lib')\n",
    "            soup_sidebar = BeautifulSoup(sidebar_content, 'html5lib')\n",
    "\n",
    "            # Logic to process the soups\n",
    "            divs = soup_sidebar.find_all('div', class_=\"css-vxna0y\")\n",
    "\n",
    "            best_offer_text = [span.text for span in soup_sidebar.find_all('span', class_=\"MuiTypography-root MuiTypography-vegaSubtitle2 css-1gcetpq\")]\n",
    "            offer_price = [span.text.split('$')[1].replace(',','') for span in soup_sidebar.find_all('span', class_=\"MuiTypography-root MuiTypography-vegaSubtitle2 css-16tlq5a\")]\n",
    "            img_source = [div.find('img')['alt'] for div in divs]\n",
    "            dates = [span.text for span in soup_sidebar.find_all('span', class_=\"MuiTypography-root MuiTypography-vegaBody3 css-11ntl8z\")]\n",
    "            offers_data = []\n",
    "            for i in range(len(offer_price)):\n",
    "                offers_dict = {}\n",
    "                offers_dict['best_offer_text'] = best_offer_text[i]\n",
    "                offers_dict['offer_price'] = offer_price[i]\n",
    "                offers_dict['img_source'] = img_source[i]\n",
    "                offers_dict['dates'] = dates[i]\n",
    "                offers_data.append(offers_dict)\n",
    "\n",
    "            df_price = pd.DataFrame(offers_data)\n",
    "\n",
    "            df_price['offer_price'] = df_price['offer_price'].astype('int')\n",
    "            df_price['dates'] = pd.to_datetime(df_price['dates'])\n",
    "            \n",
    "            # Only include sales within the past year. \n",
    "            df_price = df_price[df_price['dates'].dt.year==2022]\n",
    "            \n",
    "            df_stats = {}\n",
    "\n",
    "            df_stats['min_price'] = 0.0\n",
    "            df_stats['max_price'] = 0.0\n",
    "            df_stats['mean_price'] = 0.0\n",
    "            df_stats['median_price'] = 0.0\n",
    "\n",
    "            # If there are more than 3 sales on eBay in the past year, use ONLY the ebay sales\n",
    "            if len(df_price[df_price['img_source']=='eBay']) > 3:\n",
    "                df_price = df_price[df_price['img_source']=='eBay']\n",
    "                df_stats['min_price'] = df_price['offer_price'].min()\n",
    "                df_stats['max_price'] = df_price['offer_price'].max()\n",
    "                df_stats['mean_price'] = df_price['offer_price'].mean()\n",
    "                df_stats['median_price'] = df_price['offer_price'].median()\n",
    "            else:\n",
    "                df_stats['min_price'] = df_price['offer_price'].min()\n",
    "                df_stats['max_price'] = df_price['offer_price'].max()\n",
    "                df_stats['mean_price'] = df_price['offer_price'].mean()\n",
    "                df_stats['median_price'] = df_price['offer_price'].median()\n",
    "\n",
    "\n",
    "            df_stats = pd.DataFrame(df_stats,index=[0])\n",
    "\n",
    "            df_stats['breakeven_price'] = df_stats['mean_price'].apply(lambda x: x*0.62 if x < 2500 else 1560+(x-2500)*0.7)\n",
    "            df_stats['make_10%_price'] = df_stats['mean_price'].apply(lambda x: x*0.56 if x < 2500 else 1400+(x-2500)*0.63)\n",
    "            df_stats['dollar_under'] = df_stats['breakeven_price'] - (15600 / 1.2)\n",
    "            df_stats['percent_under'] = 15600 / (1.2 * df_stats['breakeven_price'])\n",
    "            df_stats['url'] = url\n",
    "            \n",
    "            stats_dict = dict(df_stats)\n",
    "            \n",
    "            stats_dict['min_fixed_price'] = min(int(num) for num in [span.text.split('$')[1].replace(',','') for span in soup_default.find_all('span', class_=\"MuiTypography-root MuiTypography-vegaSubtitle2 css-w9sxkt\")])\n",
    "            \n",
    "            stats_list.append(stats_dict)\n",
    "\n",
    "        except Exception as e:\n",
    "            pass\n",
    "\n",
    "df_stats = pd.DataFrame(stats_list)\n",
    "df_auction = df_auction.merge(df_stats,left_on='link',right_on=['url'])\n",
    "df_auction.drop(columns=['url'],inplace=True)\n",
    "df_auction.to_csv('scraped_results_complete.csv',index=False)"
   ]
  }
 ],
 "metadata": {
  "kernelspec": {
   "display_name": "Python 3 (ipykernel)",
   "language": "python",
   "name": "python3"
  },
  "language_info": {
   "codemirror_mode": {
    "name": "ipython",
    "version": 3
   },
   "file_extension": ".py",
   "mimetype": "text/x-python",
   "name": "python",
   "nbconvert_exporter": "python",
   "pygments_lexer": "ipython3",
   "version": "3.11.4"
  }
 },
 "nbformat": 4,
 "nbformat_minor": 5
}

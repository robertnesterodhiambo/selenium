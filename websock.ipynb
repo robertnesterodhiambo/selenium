{
 "cells": [
  {
   "cell_type": "code",
   "execution_count": 4,
   "id": "061921f8-3196-4e0b-9a20-9d80a0d503f2",
   "metadata": {
    "tags": []
   },
   "outputs": [],
   "source": [
    "import asyncio\n",
    "import websockets\n",
    "\n",
    "async def scrape_website2():\n",
    "    uri = \"wss://www.csgoroll.com/socket.io/?EIO=3&transport=websocket\"  # Replace with the actual websocket URL\n",
    "\n",
    "    try:\n",
    "        async with websockets.connect(uri) as websocket:\n",
    "            print(\"WebSocket connection established.\")\n",
    "            \n",
    "            while True:\n",
    "                # Receive and process data from the websocket\n",
    "                data = await websocket.recv()\n",
    "                # Parse and process the received data as needed\n",
    "                print(data)\n",
    "    \n",
    "    except websockets.exceptions.ConnectionClosedError as e:\n",
    "        print(f\"WebSocket connection closed: {e}\")\n",
    "\n",
    "# Run the scraping function\n",
    "asyncio.get_event_loop().run_until_complete(scrape_website2())\n"
   ]
  },
  {
   "cell_type": "code",
   "execution_count": 5,
   "id": "bed1ba50-2209-4f1c-82cd-c963ff2901b7",
   "metadata": {
    "tags": []
   },
   "outputs": [
    {
     "data": {
      "text/plain": [
       "<_WindowsSelectorEventLoop running=True closed=False debug=False>"
      ]
     },
     "execution_count": 5,
     "metadata": {},
     "output_type": "execute_result"
    }
   ],
   "source": [
    " asyncio.get_event_loop()"
   ]
  }
 ],
 "metadata": {
  "kernelspec": {
   "display_name": "Python 3 (ipykernel)",
   "language": "python",
   "name": "python3"
  },
  "language_info": {
   "codemirror_mode": {
    "name": "ipython",
    "version": 3
   },
   "file_extension": ".py",
   "mimetype": "text/x-python",
   "name": "python",
   "nbconvert_exporter": "python",
   "pygments_lexer": "ipython3",
   "version": "3.11.4"
  }
 },
 "nbformat": 4,
 "nbformat_minor": 5
}

{
 "cells": [
  {
   "cell_type": "code",
   "execution_count": 1,
   "metadata": {},
   "outputs": [
    {
     "name": "stdout",
     "output_type": "stream",
     "text": [
      "Data collected and saved to state_names.csv\n"
     ]
    }
   ],
   "source": [
    "from selenium import webdriver\n",
    "from selenium.webdriver.common.by import By\n",
    "import time\n",
    "import pandas as pd\n",
    "\n",
    "# Specify the path to your Chrome WebDriver\n",
    "chromedriver_path = \"./chromedriver\"  # Adjust the path if necessary\n",
    "\n",
    "# Initialize WebDriver\n",
    "driver = webdriver.Chrome()\n",
    "\n",
    "# Open the website\n",
    "driver.get(\"https://www.zocdoc.com/browse\")\n",
    "\n",
    "# Function to scroll to the bottom of the page\n",
    "def scroll_to_bottom(driver):\n",
    "    last_height = driver.execute_script(\"return document.body.scrollHeight\")\n",
    "    while True:\n",
    "        driver.execute_script(\"window.scrollTo(0, document.body.scrollHeight);\")\n",
    "        time.sleep(2)\n",
    "        new_height = driver.execute_script(\"return document.body.scrollHeight\")\n",
    "        if new_height == last_height:\n",
    "            break\n",
    "        last_height = new_height\n",
    "\n",
    "# Scroll to the bottom of the page\n",
    "scroll_to_bottom(driver)\n",
    "\n",
    "# Extract text from all div tags with the specified class\n",
    "divs = driver.find_elements(By.CLASS_NAME, \"sc-2gkh1u-2.ivTKoi\")\n",
    "\n",
    "# Collect the text in a list\n",
    "state_names = [div.text for div in divs]\n",
    "\n",
    "# Create a DataFrame and save to CSV\n",
    "df = pd.DataFrame(state_names, columns=['statename'])\n",
    "df.to_csv('state_names.csv', index=False)\n",
    "\n",
    "# Close the WebDriver\n",
    "driver.quit()\n",
    "\n",
    "print(\"Data collected and saved to state_names.csv\")\n"
   ]
  }
 ],
 "metadata": {
  "kernelspec": {
   "display_name": "Python 3",
   "language": "python",
   "name": "python3"
  },
  "language_info": {
   "codemirror_mode": {
    "name": "ipython",
    "version": 3
   },
   "file_extension": ".py",
   "mimetype": "text/x-python",
   "name": "python",
   "nbconvert_exporter": "python",
   "pygments_lexer": "ipython3",
   "version": "3.11.9"
  }
 },
 "nbformat": 4,
 "nbformat_minor": 2
}

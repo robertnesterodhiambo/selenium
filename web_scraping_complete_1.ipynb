{
 "cells": [
  {
   "cell_type": "code",
   "execution_count": 12,
   "id": "66cd6b02",
   "metadata": {},
   "outputs": [
    {
     "data": {
      "text/html": [
       "<style>.container { width:100% !important; }</style>"
      ],
      "text/plain": [
       "<IPython.core.display.HTML object>"
      ]
     },
     "metadata": {},
     "output_type": "display_data"
    }
   ],
   "source": [
    "# from IPython.core.display import display, HTML\n",
    "# display(HTML(\"<style>.container { width:100% !important; }</style>\"))"
   ]
  },
  {
   "cell_type": "code",
   "execution_count": 2,
   "id": "52674272",
   "metadata": {
    "tags": []
   },
   "outputs": [],
   "source": [
    "import os\n",
    "import pandas as pd\n",
    "from bs4 import BeautifulSoup\n",
    "from selenium import webdriver\n",
    "from selenium.webdriver.common.by import By\n",
    "from selenium.webdriver.firefox.options import Options\n",
    "from selenium.webdriver.support.ui import WebDriverWait\n",
    "from selenium.webdriver.support import expected_conditions as EC"
   ]
  },
  {
   "cell_type": "code",
   "execution_count": 4,
   "id": "40b83633",
   "metadata": {
    "tags": []
   },
   "outputs": [],
   "source": [
    "os.environ[\"PATH\"] += os.pathsep + \"\"\n",
    "options = Options()\n",
    "options.headless = False  # Running browser in non-headless mode for user interaction\n",
    "geckodriver_path = \"geckodriver.exe\"\n",
    "driver = webdriver.Firefox(options=options)\n",
    "url = 'https://app.alt.xyz/browse/liquid-auctions?auctionHouse=Alt&auctionHouse=eBay&sortBy=highest_alt_value_first'\n",
    "driver.get(url)\n",
    "\n",
    "# Wait for the user to manually close the browser\n",
    "final_url = None\n",
    "while True:\n",
    "    try:\n",
    "        # Continuously get the current URL\n",
    "        final_url = driver.current_url\n",
    "    except Exception as e:\n",
    "        # If an exception occurs, this means the browser has been closed\n",
    "        break"
   ]
  },
  {
   "cell_type": "code",
   "execution_count": 5,
   "id": "7f52bb7e",
   "metadata": {
    "tags": []
   },
   "outputs": [
    {
     "data": {
      "text/html": [
       "<div>\n",
       "<style scoped>\n",
       "    .dataframe tbody tr th:only-of-type {\n",
       "        vertical-align: middle;\n",
       "    }\n",
       "\n",
       "    .dataframe tbody tr th {\n",
       "        vertical-align: top;\n",
       "    }\n",
       "\n",
       "    .dataframe thead th {\n",
       "        text-align: right;\n",
       "    }\n",
       "</style>\n",
       "<table border=\"1\" class=\"dataframe\">\n",
       "  <thead>\n",
       "    <tr style=\"text-align: right;\">\n",
       "      <th></th>\n",
       "    </tr>\n",
       "  </thead>\n",
       "  <tbody>\n",
       "  </tbody>\n",
       "</table>\n",
       "</div>"
      ],
      "text/plain": [
       "Empty DataFrame\n",
       "Columns: []\n",
       "Index: []"
      ]
     },
     "execution_count": 5,
     "metadata": {},
     "output_type": "execute_result"
    }
   ],
   "source": [
    "df_auction = pd.DataFrame()\n",
    "df_auction"
   ]
  },
  {
   "cell_type": "code",
   "execution_count": 6,
   "id": "da0dba6f",
   "metadata": {
    "tags": []
   },
   "outputs": [],
   "source": [
    "# Now use the final_url to get the content\n",
    "while len(df_auction) < 1:\n",
    "    options.headless = True\n",
    "    driver = webdriver.Firefox(options=options)  # create a new driver instance\n",
    "    driver.get(final_url)\n",
    "    content = driver.page_source\n",
    "    driver.quit()\n",
    "\n",
    "    soup = BeautifulSoup(content, 'html5lib')\n",
    "\n",
    "    base_url = 'https://app.alt.xyz'\n",
    "    links = [a[\"href\"] for a in soup.find_all('a', class_=\"css-dcq7s5\")]\n",
    "    cards_n_player_number = [span.text for span in soup.find_all('span', class_=\"MuiTypography-root MuiTypography-vegaBody2 MuiTypography-noWrap css-1iu657u\")]\n",
    "    card = cards_n_player_number[::2]\n",
    "    player_n_number = cards_n_player_number[1::2]\n",
    "    grade = [span.text for span in soup.find_all('span', class_=\"MuiTypography-root MuiTypography-vegaBody2 css-1e0sb4z\")]\n",
    "    grade = [item for item in grade if item != 'No options.']\n",
    "    prices = [span.text for span in soup.find_all('span', class_=\"MuiTypography-root MuiTypography-vegaH7 css-yrl21b\")]\n",
    "\n",
    "    auction_data = []\n",
    "    for i in range(len(prices)):\n",
    "        auction_dict = {}\n",
    "        auction_dict['link'] = base_url + links[i]\n",
    "        auction_dict['card'] = card[i]\n",
    "        auction_dict['player'] = player_n_number[i].split('#')[0]\n",
    "        if len(player_n_number[i].split('#')) > 1:\n",
    "            auction_dict['card_number'] = player_n_number[i].split('#')[1]\n",
    "        auction_dict['grade'] = grade[i]\n",
    "        auction_dict['current_price'] = prices[i]\n",
    "        auction_data.append(auction_dict)\n",
    "\n",
    "    df_auction = pd.DataFrame(auction_data)"
   ]
  },
  {
   "cell_type": "markdown",
   "id": "d91fd0cb",
   "metadata": {},
   "source": [
    "# Milestone 3"
   ]
  },
  {
   "cell_type": "code",
   "execution_count": 18,
   "id": "b8543c81-67f6-4355-bbcf-ce1a3623d441",
   "metadata": {
    "tags": []
   },
   "outputs": [
    {
     "data": {
      "text/plain": [
       "'https://app.alt.xyz/browse/liquid-auctions?auctionHouse=Alt&auctionHouse=eBay&sortBy=highest_alt_value_first'"
      ]
     },
     "execution_count": 18,
     "metadata": {},
     "output_type": "execute_result"
    }
   ],
   "source": [
    "final_url"
   ]
  },
  {
   "cell_type": "code",
   "execution_count": 33,
   "id": "257f8273",
   "metadata": {
    "tags": []
   },
   "outputs": [
    {
     "name": "stdout",
     "output_type": "stream",
     "text": [
      "https://app.alt.xyz/browse/external-listing?id=bf4b7727-4eeb-4073-96da-4afb1f977367&prev=%2Fbrowse%2Fliquid-auctions%3FauctionHouse%3DAlt%26auctionHouse%3DeBay%26sortBy%3Dhighest_alt_value_first\n",
      "https://app.alt.xyz/browse/external-listing?id=536313fc-2e76-4d81-bf53-3eac18c10ffc&prev=%2Fbrowse%2Fliquid-auctions%3FauctionHouse%3DAlt%26auctionHouse%3DeBay%26sortBy%3Dhighest_alt_value_first\n",
      "https://app.alt.xyz/browse/external-listing?id=430fe535-78aa-4bc3-aa93-47585841d140&prev=%2Fbrowse%2Fliquid-auctions%3FauctionHouse%3DAlt%26auctionHouse%3DeBay%26sortBy%3Dhighest_alt_value_first\n",
      "https://app.alt.xyz/browse/external-listing?id=c5fb305c-d6b0-4e44-898c-3d2f6937acd3&prev=%2Fbrowse%2Fliquid-auctions%3FauctionHouse%3DAlt%26auctionHouse%3DeBay%26sortBy%3Dhighest_alt_value_first\n",
      "https://app.alt.xyz/browse/external-listing?id=06492e5a-6562-4cfd-ae37-c31efe8fcb76&prev=%2Fbrowse%2Fliquid-auctions%3FauctionHouse%3DAlt%26auctionHouse%3DeBay%26sortBy%3Dhighest_alt_value_first\n",
      "https://app.alt.xyz/browse/external-listing?id=23ed2946-03ce-4735-9838-019c239d5505&prev=%2Fbrowse%2Fliquid-auctions%3FauctionHouse%3DAlt%26auctionHouse%3DeBay%26sortBy%3Dhighest_alt_value_first\n"
     ]
    }
   ],
   "source": [
    "options = webdriver.FirefoxOptions()\n",
    "options.headless = True\n",
    "\n",
    "stats_list = []\n",
    "\n",
    "for url in df_auction['link'][0:6]:\n",
    "    print(url)\n",
    "    with webdriver.Firefox(options=options) as driver:\n",
    "        try:\n",
    "            driver.get(url)\n",
    "\n",
    "            # Get the default div's content\n",
    "            default_div = driver.find_element(By.CSS_SELECTOR, '.MuiGrid-grid-sm-9')\n",
    "            default_content = default_div.get_attribute('outerHTML')\n",
    "\n",
    "            # Click the \"View All\" button to load the sidebar\n",
    "            view_all_button = driver.find_element(By.CSS_SELECTOR, 'button.MuiButtonBase-root:nth-child(3)')\n",
    "            view_all_button.click()\n",
    "\n",
    "            # Wait for the sidebar's specific div to be visible\n",
    "            wait = WebDriverWait(driver, 2)  # Wait for up to 2 seconds\n",
    "            sidebar_div = wait.until(EC.visibility_of_element_located((By.CSS_SELECTOR, \".css-nltf5e > div:nth-child(3)\")))\n",
    "\n",
    "            # Get the HTML content of the div\n",
    "            sidebar_content = sidebar_div.get_attribute('outerHTML')\n",
    "\n",
    "            # Create Beautiful Soup objects from the contents\n",
    "            soup_default = BeautifulSoup(default_content, 'html5lib')\n",
    "            soup_sidebar = BeautifulSoup(sidebar_content, 'html5lib')\n",
    "\n",
    "            # Logic to process the soups\n",
    "            divs = soup_sidebar.find_all('div', class_=\"css-vxna0y\")\n",
    "\n",
    "            best_offer_text = [span.text for span in soup_sidebar.find_all('span', class_=\"MuiTypography-root MuiTypography-vegaSubtitle2 css-1gcetpq\")]\n",
    "            offer_price = [span.text.split('$')[1].replace(',','') for span in soup_sidebar.find_all('span', class_=\"MuiTypography-root MuiTypography-vegaSubtitle2 css-16tlq5a\")]\n",
    "            img_source = [div.find('img')['alt'] for div in divs]\n",
    "            dates = [span.text for span in soup_sidebar.find_all('span', class_=\"MuiTypography-root MuiTypography-vegaBody3 css-11ntl8z\")]\n",
    "            offers_data = []\n",
    "            for i in range(len(offer_price)):\n",
    "                offers_dict = {}\n",
    "                offers_dict['best_offer_text'] = best_offer_text[i]\n",
    "                offers_dict['offer_price'] = offer_price[i]\n",
    "                offers_dict['img_source'] = img_source[i]\n",
    "                offers_dict['dates'] = dates[i]\n",
    "                offers_data.append(offers_dict)\n",
    "\n",
    "            df_price = pd.DataFrame(offers_data)\n",
    "\n",
    "            df_price['offer_price'] = df_price['offer_price'].astype('int')\n",
    "            df_price['dates'] = pd.to_datetime(df_price['dates'])\n",
    "            \n",
    "            # Only include sales within the past year. \n",
    "            df_price = df_price[df_price['dates'].dt.year==2022]\n",
    "            \n",
    "            df_stats = {}\n",
    "\n",
    "            df_stats['min_price'] = 0.0\n",
    "            df_stats['max_price'] = 0.0\n",
    "            df_stats['mean_price'] = 0.0\n",
    "            df_stats['median_price'] = 0.0\n",
    "\n",
    "            # If there are more than 3 sales on eBay in the past year, use ONLY the ebay sales\n",
    "            if len(df_price[df_price['img_source']=='eBay']) > 3:\n",
    "                df_price = df_price[df_price['img_source']=='eBay']\n",
    "                df_stats['min_price'] = df_price['offer_price'].min()\n",
    "                df_stats['max_price'] = df_price['offer_price'].max()\n",
    "                df_stats['mean_price'] = df_price['offer_price'].mean()\n",
    "                df_stats['median_price'] = df_price['offer_price'].median()\n",
    "            else:\n",
    "                df_stats['min_price'] = df_price['offer_price'].min()\n",
    "                df_stats['max_price'] = df_price['offer_price'].max()\n",
    "                df_stats['mean_price'] = df_price['offer_price'].mean()\n",
    "                df_stats['median_price'] = df_price['offer_price'].median()\n",
    "\n",
    "\n",
    "            df_stats = pd.DataFrame(df_stats)\n",
    "\n",
    "            df_stats['breakeven_price'] = df_stats['mean_price'].apply(lambda x: x*0.62 if x < 2500 else 1560+(x-2500)*0.7)\n",
    "            df_stats['make_10%_price'] = df_stats['mean_price'].apply(lambda x: x*0.56 if x < 2500 else 1400+(x-2500)*0.63)\n",
    "            df_stats['dollar_under'] = df_stats['breakeven_price'] - (15600 / 1.2)\n",
    "            df_stats['percent_under'] = 15600 / (1.2 * df_stats['breakeven_price'])\n",
    "            df_stats['url'] = url\n",
    "            \n",
    "            stats_dict = dict(df_stats)\n",
    "            \n",
    "            stats_dict['min_fixed_price'] = min(int(num) for num in [span.text.split('$')[1].replace(',','') for span in soup_default.find_all('span', class_=\"MuiTypography-root MuiTypography-vegaSubtitle2 css-w9sxkt\")])\n",
    "            \n",
    "            stats_list.append(stats_dict)\n",
    "\n",
    "        except Exception as e:\n",
    "            pass\n",
    "\n",
    "df_stats = pd.DataFrame(stats_list)\n",
    "if len(df_stats) >= 1:\n",
    "    df_auction = df_auction.merge(df_stats,left_on='link',right_on=['url'])\n",
    "    df_auction.drop(columns=['url'],inplace=True)\n",
    "df_auction.to_csv('scraped_results_complete.csv',index=False)"
   ]
  },
  {
   "cell_type": "markdown",
   "id": "7bae8be1-f3ea-48a2-a8e4-901f81127975",
   "metadata": {
    "tags": []
   },
   "source": [
    "ok, I am not getting any error on my end, but I am happy to look into this on my own and get back to you"
   ]
  },
  {
   "cell_type": "code",
   "execution_count": 41,
   "id": "599ba821-fc90-44e0-a29c-16cc8dff6f05",
   "metadata": {
    "tags": []
   },
   "outputs": [
    {
     "ename": "KeyError",
     "evalue": "'min_price'",
     "output_type": "error",
     "traceback": [
      "\u001b[1;31m---------------------------------------------------------------------------\u001b[0m",
      "\u001b[1;31mKeyError\u001b[0m                                  Traceback (most recent call last)",
      "File \u001b[1;32m~\\AppData\\Local\\anaconda3\\Lib\\site-packages\\pandas\\core\\indexes\\base.py:3802\u001b[0m, in \u001b[0;36mIndex.get_loc\u001b[1;34m(self, key, method, tolerance)\u001b[0m\n\u001b[0;32m   3801\u001b[0m \u001b[38;5;28;01mtry\u001b[39;00m:\n\u001b[1;32m-> 3802\u001b[0m     \u001b[38;5;28;01mreturn\u001b[39;00m \u001b[38;5;28mself\u001b[39m\u001b[38;5;241m.\u001b[39m_engine\u001b[38;5;241m.\u001b[39mget_loc(casted_key)\n\u001b[0;32m   3803\u001b[0m \u001b[38;5;28;01mexcept\u001b[39;00m \u001b[38;5;167;01mKeyError\u001b[39;00m \u001b[38;5;28;01mas\u001b[39;00m err:\n",
      "File \u001b[1;32m~\\AppData\\Local\\anaconda3\\Lib\\site-packages\\pandas\\_libs\\index.pyx:138\u001b[0m, in \u001b[0;36mpandas._libs.index.IndexEngine.get_loc\u001b[1;34m()\u001b[0m\n",
      "File \u001b[1;32m~\\AppData\\Local\\anaconda3\\Lib\\site-packages\\pandas\\_libs\\index.pyx:165\u001b[0m, in \u001b[0;36mpandas._libs.index.IndexEngine.get_loc\u001b[1;34m()\u001b[0m\n",
      "File \u001b[1;32mpandas\\_libs\\hashtable_class_helper.pxi:5745\u001b[0m, in \u001b[0;36mpandas._libs.hashtable.PyObjectHashTable.get_item\u001b[1;34m()\u001b[0m\n",
      "File \u001b[1;32mpandas\\_libs\\hashtable_class_helper.pxi:5753\u001b[0m, in \u001b[0;36mpandas._libs.hashtable.PyObjectHashTable.get_item\u001b[1;34m()\u001b[0m\n",
      "\u001b[1;31mKeyError\u001b[0m: 'min_price'",
      "\nThe above exception was the direct cause of the following exception:\n",
      "\u001b[1;31mKeyError\u001b[0m                                  Traceback (most recent call last)",
      "Cell \u001b[1;32mIn[41], line 1\u001b[0m\n\u001b[1;32m----> 1\u001b[0m df_stats[\u001b[38;5;124m'\u001b[39m\u001b[38;5;124mmin_price\u001b[39m\u001b[38;5;124m'\u001b[39m] \u001b[38;5;241m=\u001b[39m df_stats[\u001b[38;5;124m'\u001b[39m\u001b[38;5;124mmin_price\u001b[39m\u001b[38;5;124m'\u001b[39m]\u001b[38;5;241m.\u001b[39mapply(\u001b[38;5;28;01mlambda\u001b[39;00m x: x\u001b[38;5;241m.\u001b[39miloc[\u001b[38;5;241m0\u001b[39m] \u001b[38;5;28;01mif\u001b[39;00m \u001b[38;5;28misinstance\u001b[39m(x, pd\u001b[38;5;241m.\u001b[39mSeries) \u001b[38;5;129;01mand\u001b[39;00m \u001b[38;5;129;01mnot\u001b[39;00m x\u001b[38;5;241m.\u001b[39mempty \u001b[38;5;28;01melse\u001b[39;00m x)\n\u001b[0;32m      2\u001b[0m df_stats[\u001b[38;5;124m'\u001b[39m\u001b[38;5;124mmax_price\u001b[39m\u001b[38;5;124m'\u001b[39m] \u001b[38;5;241m=\u001b[39m df_stats[\u001b[38;5;124m'\u001b[39m\u001b[38;5;124mmax_price\u001b[39m\u001b[38;5;124m'\u001b[39m]\u001b[38;5;241m.\u001b[39mapply(\u001b[38;5;28;01mlambda\u001b[39;00m x: x\u001b[38;5;241m.\u001b[39miloc[\u001b[38;5;241m0\u001b[39m] \u001b[38;5;28;01mif\u001b[39;00m \u001b[38;5;28misinstance\u001b[39m(x, pd\u001b[38;5;241m.\u001b[39mSeries) \u001b[38;5;129;01mand\u001b[39;00m \u001b[38;5;129;01mnot\u001b[39;00m x\u001b[38;5;241m.\u001b[39mempty \u001b[38;5;28;01melse\u001b[39;00m x)\n\u001b[0;32m      3\u001b[0m df_stats[\u001b[38;5;124m'\u001b[39m\u001b[38;5;124mmean_price\u001b[39m\u001b[38;5;124m'\u001b[39m] \u001b[38;5;241m=\u001b[39m df_stats[\u001b[38;5;124m'\u001b[39m\u001b[38;5;124mmean_price\u001b[39m\u001b[38;5;124m'\u001b[39m]\u001b[38;5;241m.\u001b[39mapply(\u001b[38;5;28;01mlambda\u001b[39;00m x: x\u001b[38;5;241m.\u001b[39miloc[\u001b[38;5;241m0\u001b[39m] \u001b[38;5;28;01mif\u001b[39;00m \u001b[38;5;28misinstance\u001b[39m(x, pd\u001b[38;5;241m.\u001b[39mSeries) \u001b[38;5;129;01mand\u001b[39;00m \u001b[38;5;129;01mnot\u001b[39;00m x\u001b[38;5;241m.\u001b[39mempty \u001b[38;5;28;01melse\u001b[39;00m x)\n",
      "File \u001b[1;32m~\\AppData\\Local\\anaconda3\\Lib\\site-packages\\pandas\\core\\frame.py:3807\u001b[0m, in \u001b[0;36mDataFrame.__getitem__\u001b[1;34m(self, key)\u001b[0m\n\u001b[0;32m   3805\u001b[0m \u001b[38;5;28;01mif\u001b[39;00m \u001b[38;5;28mself\u001b[39m\u001b[38;5;241m.\u001b[39mcolumns\u001b[38;5;241m.\u001b[39mnlevels \u001b[38;5;241m>\u001b[39m \u001b[38;5;241m1\u001b[39m:\n\u001b[0;32m   3806\u001b[0m     \u001b[38;5;28;01mreturn\u001b[39;00m \u001b[38;5;28mself\u001b[39m\u001b[38;5;241m.\u001b[39m_getitem_multilevel(key)\n\u001b[1;32m-> 3807\u001b[0m indexer \u001b[38;5;241m=\u001b[39m \u001b[38;5;28mself\u001b[39m\u001b[38;5;241m.\u001b[39mcolumns\u001b[38;5;241m.\u001b[39mget_loc(key)\n\u001b[0;32m   3808\u001b[0m \u001b[38;5;28;01mif\u001b[39;00m is_integer(indexer):\n\u001b[0;32m   3809\u001b[0m     indexer \u001b[38;5;241m=\u001b[39m [indexer]\n",
      "File \u001b[1;32m~\\AppData\\Local\\anaconda3\\Lib\\site-packages\\pandas\\core\\indexes\\base.py:3804\u001b[0m, in \u001b[0;36mIndex.get_loc\u001b[1;34m(self, key, method, tolerance)\u001b[0m\n\u001b[0;32m   3802\u001b[0m     \u001b[38;5;28;01mreturn\u001b[39;00m \u001b[38;5;28mself\u001b[39m\u001b[38;5;241m.\u001b[39m_engine\u001b[38;5;241m.\u001b[39mget_loc(casted_key)\n\u001b[0;32m   3803\u001b[0m \u001b[38;5;28;01mexcept\u001b[39;00m \u001b[38;5;167;01mKeyError\u001b[39;00m \u001b[38;5;28;01mas\u001b[39;00m err:\n\u001b[1;32m-> 3804\u001b[0m     \u001b[38;5;28;01mraise\u001b[39;00m \u001b[38;5;167;01mKeyError\u001b[39;00m(key) \u001b[38;5;28;01mfrom\u001b[39;00m \u001b[38;5;21;01merr\u001b[39;00m\n\u001b[0;32m   3805\u001b[0m \u001b[38;5;28;01mexcept\u001b[39;00m \u001b[38;5;167;01mTypeError\u001b[39;00m:\n\u001b[0;32m   3806\u001b[0m     \u001b[38;5;66;03m# If we have a listlike key, _check_indexing_error will raise\u001b[39;00m\n\u001b[0;32m   3807\u001b[0m     \u001b[38;5;66;03m#  InvalidIndexError. Otherwise we fall through and re-raise\u001b[39;00m\n\u001b[0;32m   3808\u001b[0m     \u001b[38;5;66;03m#  the TypeError.\u001b[39;00m\n\u001b[0;32m   3809\u001b[0m     \u001b[38;5;28mself\u001b[39m\u001b[38;5;241m.\u001b[39m_check_indexing_error(key)\n",
      "\u001b[1;31mKeyError\u001b[0m: 'min_price'"
     ]
    }
   ],
   "source": [
    "df_stats['min_price'] = df_stats['min_price'].apply(lambda x: x.iloc[0] if isinstance(x, pd.Series) and not x.empty else x)\n",
    "df_stats['max_price'] = df_stats['max_price'].apply(lambda x: x.iloc[0] if isinstance(x, pd.Series) and not x.empty else x)\n",
    "df_stats['mean_price'] = df_stats['mean_price'].apply(lambda x: x.iloc[0] if isinstance(x, pd.Series) and not x.empty else x)\n",
    "df_stats['median_price'] = df_stats['median_price'].apply(lambda x: x.iloc[0] if isinstance(x, pd.Series) and not x.empty else x)\n",
    "df_stats['breakeven_price'] = df_stats['breakeven_price'].apply(lambda x: x.iloc[0] if isinstance(x, pd.Series) and not x.empty else x)\n",
    "df_stats['make_10%_price'] = df_stats['make_10%_price'].apply(lambda x: x.iloc[0] if isinstance(x, pd.Series) and not x.empty else x)\n",
    "df_stats['dollar_under'] = df_stats['dollar_under'].apply(lambda x: x.iloc[0] if isinstance(x, pd.Series) and not x.empty else x)\n",
    "df_stats['percent_under'] = df_stats['percent_under'].apply(lambda x: x.iloc[0] if isinstance(x, pd.Series) and not x.empty else x)"
   ]
  },
  {
   "cell_type": "code",
   "execution_count": 40,
   "id": "7ca91ce3-5144-499d-9fe4-502b3ba28f36",
   "metadata": {
    "tags": []
   },
   "outputs": [
    {
     "ename": "SyntaxError",
     "evalue": "invalid syntax (4273029874.py, line 1)",
     "output_type": "error",
     "traceback": [
      "\u001b[1;36m  Cell \u001b[1;32mIn[40], line 1\u001b[1;36m\u001b[0m\n\u001b[1;33m    what do you think ?\u001b[0m\n\u001b[1;37m         ^\u001b[0m\n\u001b[1;31mSyntaxError\u001b[0m\u001b[1;31m:\u001b[0m invalid syntax\n"
     ]
    }
   ],
   "source": [
    "what do you think ?"
   ]
  },
  {
   "cell_type": "code",
   "execution_count": null,
   "id": "79e52017-6d6e-4e1d-98ad-2865a2707e4b",
   "metadata": {},
   "outputs": [],
   "source": [
    "you may close the connection"
   ]
  }
 ],
 "metadata": {
  "kernelspec": {
   "display_name": "Python 3 (ipykernel)",
   "language": "python",
   "name": "python3"
  },
  "language_info": {
   "codemirror_mode": {
    "name": "ipython",
    "version": 3
   },
   "file_extension": ".py",
   "mimetype": "text/x-python",
   "name": "python",
   "nbconvert_exporter": "python",
   "pygments_lexer": "ipython3",
   "version": "3.11.4"
  }
 },
 "nbformat": 4,
 "nbformat_minor": 5
}
